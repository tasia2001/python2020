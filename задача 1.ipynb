{
 "cells": [
  {
   "cell_type": "code",
   "execution_count": 120,
   "metadata": {},
   "outputs": [],
   "source": [
    "m=[[6,1,10],[7,3,10],[3,8,10],[5,4,1],[8,5,10]]"
   ]
  },
  {
   "cell_type": "code",
   "execution_count": 123,
   "metadata": {},
   "outputs": [],
   "source": [
    "def vybory(m):\n",
    "    ans=0\n",
    "    while True:\n",
    "        mm=[]\n",
    "        for i in range(len(m)):\n",
    "            mi=[]\n",
    "            for j in m[i][:-1]:\n",
    "                mi.append((m[i][-1]-j,i))\n",
    "            mm.append(mi)\n",
    "        if len(mm)==0:\n",
    "            break\n",
    "        ll=[]\n",
    "        for i in range(2):\n",
    "            ll.append((max(mm,key=lambda x: x[i])[i],i))\n",
    "        elem=max(ll) #((a,b),c) - на (b-1)-том участке сильный разрыв с кандидатом (c-1) на a голосов\n",
    "        if elem[0][0]<=0:\n",
    "            break\n",
    "        else:\n",
    "            ans+=1\n",
    "            del m[elem[0][1]]\n",
    "    print(ans)\n",
    "\n",
    "\n"
   ]
  },
  {
   "cell_type": "code",
   "execution_count": 124,
   "metadata": {},
   "outputs": [
    {
     "name": "stdout",
     "output_type": "stream",
     "text": [
      "0\n"
     ]
    }
   ],
   "source": [
    "vybory(m)"
   ]
  },
  {
   "cell_type": "code",
   "execution_count": null,
   "metadata": {},
   "outputs": [],
   "source": []
  }
 ],
 "metadata": {
  "kernelspec": {
   "display_name": "Python 3",
   "language": "python",
   "name": "python3"
  },
  "language_info": {
   "codemirror_mode": {
    "name": "ipython",
    "version": 3
   },
   "file_extension": ".py",
   "mimetype": "text/x-python",
   "name": "python",
   "nbconvert_exporter": "python",
   "pygments_lexer": "ipython3",
   "version": "3.7.6"
  }
 },
 "nbformat": 4,
 "nbformat_minor": 4
}
