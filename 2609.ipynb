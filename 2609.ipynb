{
 "cells": [
  {
   "cell_type": "markdown",
   "metadata": {},
   "source": [
    "Задание 3"
   ]
  },
  {
   "cell_type": "code",
   "execution_count": 23,
   "metadata": {},
   "outputs": [],
   "source": [
    "s='asddddddsa'\n",
    "def is5(s):\n",
    "    ans=False\n",
    "    for i in range(len(s)):\n",
    "        if s[i:(i+5)]==s[i]*5:\n",
    "            ans=True\n",
    "    return ans"
   ]
  },
  {
   "cell_type": "code",
   "execution_count": 24,
   "metadata": {},
   "outputs": [
    {
     "data": {
      "text/plain": [
       "True"
      ]
     },
     "execution_count": 24,
     "metadata": {},
     "output_type": "execute_result"
    }
   ],
   "source": [
    "is5(s)"
   ]
  },
  {
   "cell_type": "markdown",
   "metadata": {},
   "source": [
    "Задание 4"
   ]
  },
  {
   "cell_type": "code",
   "execution_count": 84,
   "metadata": {},
   "outputs": [],
   "source": [
    "import re\n",
    "def meanwords(st):\n",
    "    count=[]\n",
    "    a=re.split(',|\\.|\\:|\\!|\\?',st)\n",
    "    for i in a:\n",
    "        words=i.split(' ')\n",
    "        for ii in words:\n",
    "            count.append(len(ii))\n",
    "    l=0\n",
    "    for i in count:\n",
    "        if i!=0:\n",
    "            l+=1\n",
    "    return sum(count)/l\n",
    "    "
   ]
  },
  {
   "cell_type": "code",
   "execution_count": 85,
   "metadata": {},
   "outputs": [
    {
     "data": {
      "text/plain": [
       "6.0"
      ]
     },
     "execution_count": 85,
     "metadata": {},
     "output_type": "execute_result"
    }
   ],
   "source": [
    "st='Дана строка, текст произвольный. Какая! средняя длина слов?'\n",
    "\n",
    "meanwords(st)"
   ]
  },
  {
   "cell_type": "markdown",
   "metadata": {},
   "source": [
    "Задание 5"
   ]
  },
  {
   "cell_type": "code",
   "execution_count": 91,
   "metadata": {},
   "outputs": [
    {
     "name": "stdout",
     "output_type": "stream",
     "text": [
      "True\n"
     ]
    }
   ],
   "source": [
    "s1='abcdefg'\n",
    "s2='bcd'\n",
    "i=0\n",
    "j=0\n",
    "while i<len(s1) and j<len(s2):\n",
    "    if s1[i]==s2[j]:\n",
    "        i+=1\n",
    "        j+=1\n",
    "    else:\n",
    "        i+=1\n",
    "        j=0\n",
    "if j==len(s2):\n",
    "    print(True)\n",
    "else:\n",
    "    print(False)"
   ]
  },
  {
   "cell_type": "markdown",
   "metadata": {},
   "source": [
    "Задание 6"
   ]
  },
  {
   "cell_type": "code",
   "execution_count": 115,
   "metadata": {},
   "outputs": [],
   "source": [
    "ss='Sator Arepo tenet opera rotas'"
   ]
  },
  {
   "cell_type": "code",
   "execution_count": 113,
   "metadata": {},
   "outputs": [],
   "source": [
    "\n",
    "def palindromeQ(ss):\n",
    "    ss=ss.lower()\n",
    "    res=[]\n",
    "    for i in ss:\n",
    "        if i.isalpha():\n",
    "            res.append(i)\n",
    "    l=len(res)\n",
    "    ans=True\n",
    "    for i in range(l//2):\n",
    "        if res[i]!=res[l-i-1]:\n",
    "            ans=False\n",
    "    return ans\n",
    "    "
   ]
  },
  {
   "cell_type": "code",
   "execution_count": 119,
   "metadata": {},
   "outputs": [
    {
     "data": {
      "text/plain": [
       "True"
      ]
     },
     "execution_count": 119,
     "metadata": {},
     "output_type": "execute_result"
    }
   ],
   "source": [
    "palindromeQ('A man, a plan, a canal – Panama.')"
   ]
  },
  {
   "cell_type": "code",
   "execution_count": null,
   "metadata": {},
   "outputs": [],
   "source": []
  }
 ],
 "metadata": {
  "kernelspec": {
   "display_name": "Python 3",
   "language": "python",
   "name": "python3"
  },
  "language_info": {
   "codemirror_mode": {
    "name": "ipython",
    "version": 3
   },
   "file_extension": ".py",
   "mimetype": "text/x-python",
   "name": "python",
   "nbconvert_exporter": "python",
   "pygments_lexer": "ipython3",
   "version": "3.7.6"
  }
 },
 "nbformat": 4,
 "nbformat_minor": 4
}
