{
 "cells": [
  {
   "cell_type": "code",
   "execution_count": 115,
   "metadata": {},
   "outputs": [],
   "source": [
    "letters=['a','b','c','d','e','f','g','h']\n",
    "numbers=[1,2,3,4,5,6,7,8]\n"
   ]
  },
  {
   "cell_type": "code",
   "execution_count": 15,
   "metadata": {},
   "outputs": [],
   "source": [
    "def king(white,black):\n",
    "    if abs(letters.index(white[0])-letters.index(black[0]))<=1 and abs(int(white[1])-int(black[1]))<=1:\n",
    "        return True\n",
    "    else:\n",
    "        return False"
   ]
  },
  {
   "cell_type": "code",
   "execution_count": 19,
   "metadata": {},
   "outputs": [],
   "source": [
    "def castle(white,black):\n",
    "    if white[0]==black[0] or white[1]==black[1]:\n",
    "        return True\n",
    "    else:\n",
    "        return False"
   ]
  },
  {
   "cell_type": "code",
   "execution_count": 127,
   "metadata": {},
   "outputs": [],
   "source": [
    "def others(pos):\n",
    "    lst=[]\n",
    "    a=letters.index(pos[0])\n",
    "    b=int(pos[1])\n",
    "    if a==0:\n",
    "        l=map(lambda z: list(map(lambda x: z+ str(x),numbers[b-2:b+1])),letters[0:2])\n",
    "    elif a==len(letters)-1:\n",
    "        l=map(lambda z: list(map(lambda x: z+ str(x),numbers[b-2:b+1])),letters[-2::])\n",
    "    else:\n",
    "        l=map(lambda z: list(map(lambda x: z+ str(x),numbers[b-2:b+1])),letters[a-1:a+2])\n",
    "    flat_list = [item for sublist in list(l) for item in sublist]\n",
    "    return flat_list\n",
    "        \n",
    "        \n",
    "        \n",
    "        "
   ]
  },
  {
   "cell_type": "code",
   "execution_count": 152,
   "metadata": {},
   "outputs": [],
   "source": [
    "def checkmate(positions):\n",
    "    s=positions.split()\n",
    "    other=others(s[2])\n",
    "    k=king(s[0],s[2])\n",
    "    c=castle(s[1],s[2]) \n",
    "    e=list(map(lambda x: king(s[0],x) or castle(s[1],x),other))\n",
    "    if k:\n",
    "        print('strange')\n",
    "    elif  (not k) and (not c) and (False in e):\n",
    "        print('normal')\n",
    "    elif k or c and (False in e):\n",
    "        print('check')\n",
    "    elif k or c and not (False in e):\n",
    "        print('Ckeckmate')\n",
    "    else:\n",
    "        print('stalemate')\n",
    "    "
   ]
  },
  {
   "cell_type": "code",
   "execution_count": 155,
   "metadata": {},
   "outputs": [
    {
     "name": "stdout",
     "output_type": "stream",
     "text": [
      "check\n"
     ]
    }
   ],
   "source": [
    "checkmate(\"a3 e5 e7\")"
   ]
  },
  {
   "cell_type": "code",
   "execution_count": null,
   "metadata": {},
   "outputs": [],
   "source": []
  }
 ],
 "metadata": {
  "kernelspec": {
   "display_name": "Python 3",
   "language": "python",
   "name": "python3"
  },
  "language_info": {
   "codemirror_mode": {
    "name": "ipython",
    "version": 3
   },
   "file_extension": ".py",
   "mimetype": "text/x-python",
   "name": "python",
   "nbconvert_exporter": "python",
   "pygments_lexer": "ipython3",
   "version": "3.7.6"
  }
 },
 "nbformat": 4,
 "nbformat_minor": 4
}
